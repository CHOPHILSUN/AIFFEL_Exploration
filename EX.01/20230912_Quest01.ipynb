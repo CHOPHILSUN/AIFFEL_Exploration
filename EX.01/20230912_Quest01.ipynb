{
  "nbformat": 4,
  "nbformat_minor": 0,
  "metadata": {
    "colab": {
      "provenance": [],
      "include_colab_link": true
    },
    "kernelspec": {
      "name": "python3",
      "display_name": "Python 3"
    },
    "language_info": {
      "name": "python"
    }
  },
  "cells": [
    {
      "cell_type": "markdown",
      "metadata": {
        "id": "view-in-github",
        "colab_type": "text"
      },
      "source": [
        "<a href=\"https://colab.research.google.com/github/TEhyeok/AIFFEL_Exploration/blob/main/20230912_Quest01.ipynb\" target=\"_parent\"><img src=\"https://colab.research.google.com/assets/colab-badge.svg\" alt=\"Open In Colab\"/></a>"
      ]
    },
    {
      "cell_type": "code",
      "execution_count": null,
      "metadata": {
        "id": "hEFZqkwHDI8J",
        "colab": {
          "base_uri": "https://localhost:8080/"
        },
        "outputId": "ae974672-b28b-4c16-b120-370e49fe2c16"
      },
      "outputs": [
        {
          "output_type": "stream",
          "name": "stdout",
          "text": [
            "단어를 입력해주세요 : 우영우\n",
            "===\n",
            "입력값 :\n",
            "우영우\n",
            "\n",
            "\n",
            "출력값 :\n",
            "뒤집힌 단어는 : 우영우\n",
            "입력된 단어는 회문입니다.\n"
          ]
        }
      ],
      "source": [
        "# 회문인지 아닌지 확인하는 프로그램\n",
        "## 단어 입력 받고 -> 뒤집어서 출력을 하고 -> 회문인지 아닌지 확인\n",
        "## 단어는 리스트처럼 인덱싱을 활용 가능 -> 단어 뒤집는 방법 -> 단어[::-1]\n",
        "## input -> 인덱싱을 거꾸로 하면 되고 -> if 조건 회문인지 아닌지 판단\n",
        "## 표기법은 스네이크 케이스\n",
        "\n",
        "# 회문 판별 함수\n",
        "def reverse_check(word):\n",
        "  # 입력 단어 뒤집는다.\n",
        "  local_reverse_word = word[::-1]\n",
        "  # 입력 단어와 뒤집은 단어 비교 후 출력\n",
        "  if local_reverse_word == word:\n",
        "    print(\"입력된 단어는 회문입니다.\")\n",
        "  else:\n",
        "    print(\"입력된 단어는 회문이 아닙니다.\")\n",
        "\n",
        "# main 함수\n",
        "def main():\n",
        "  # 단어를 입력 받는다\n",
        "  input_word = input(\"단어를 입력해주세요 : \")\n",
        "\n",
        "  print(\"===\")\n",
        "  print(\"입력값 :\\n\" + input_word)\n",
        "  # 단어를 뒤집는다.\n",
        "  reverse_word = input_word[::-1]\n",
        "\n",
        "  print(\"\\n\")\n",
        "\n",
        "  print(\"출력값 :\")\n",
        "  print(\"뒤집힌 단어는 : \" + reverse_word)\n",
        "  # 회문 판별 함수\n",
        "  reverse_check(input_word)\n",
        "\n",
        "main()"
      ]
    }
  ]
}